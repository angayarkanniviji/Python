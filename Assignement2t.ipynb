{
 "cells": [
  {
   "cell_type": "markdown",
   "metadata": {},
   "source": [
    "#Write a Python Program to implement your own myreduce() function which works exactly like Python's built-in function reduce()\n",
    "function reduce the list uisng x+y/2"
   ]
  },
  {
   "cell_type": "code",
   "execution_count": 92,
   "metadata": {},
   "outputs": [
    {
     "name": "stdout",
     "output_type": "stream",
     "text": [
      "1600\n",
      "120000000000000\n"
     ]
    }
   ],
   "source": [
    "def add(a:int,b:int):\n",
    "    return a+b\n",
    "def mul(a:int,b:int):\n",
    "    return a*b\n",
    "\n",
    "def MyReduce(f,List2,val):\n",
    "    val=List2[0]\n",
    "    for i in List2:\n",
    "        val = f(val,i)\n",
    "    return val\n",
    "print(MyReduce(add,[100,200,300,400,500],0))\n",
    "print(MyReduce(mul,[100,200,300,400,500],1))  "
   ]
  },
  {
   "cell_type": "markdown",
   "metadata": {},
   "source": [
    "Write a Python program to implement your own myfilter() function which works exactly like Python's built-in function filter()"
   ]
  },
  {
   "cell_type": "code",
   "execution_count": 1,
   "metadata": {},
   "outputs": [
    {
     "name": "stdout",
     "output_type": "stream",
     "text": [
      "[100, 200, 300, 400, 500]\n",
      "[1, 2, 5]\n",
      "[10, 10]\n"
     ]
    }
   ],
   "source": [
    "GTR10=lambda x : True if(x>10) else False\n",
    "LT10=lambda x :  True if(x<10) else False  \n",
    "EQ10=lambda x :  True if(x==10) else False \n",
    "def MyFilter(f,List2):\n",
    "    l=[]\n",
    "    j=0\n",
    "    for i in List2:\n",
    "         if f(i):\n",
    "            l.append(i)\n",
    "    return l        \n",
    "                 \n",
    "   # b = yield i if f(i) else pass for i in List2\n",
    "   # return b           \n",
    "print(MyFilter(GTR10,[100,200,300,400,500]))\n",
    "print(MyFilter(LT10,[1,2,300,400,5]))  \n",
    "print(MyFilter(EQ10,[10,2,300,400,10]))  "
   ]
  },
  {
   "cell_type": "code",
   "execution_count": 6,
   "metadata": {},
   "outputs": [
    {
     "data": {
      "text/plain": [
       "'angayarkanni'"
      ]
     },
     "execution_count": 6,
     "metadata": {},
     "output_type": "execute_result"
    }
   ],
   "source": [
    "#\n",
    "import functools\n",
    "List1 = [\"viji\",\"tejja\",\"angayarkanni\"]\n",
    "functools.reduce(lambda a,b: a if len(a)>len(b) else b,List1)"
   ]
  },
  {
   "cell_type": "code",
   "execution_count": 49,
   "metadata": {},
   "outputs": [
    {
     "name": "stdout",
     "output_type": "stream",
     "text": [
      "['A', 'C', 'A', 'D', 'G', 'I', 'L', 'D']\n",
      "['x', 'xx', 'xxx', 'xxxx', 'y', 'yy', 'yyy', 'yyyy', 'z', 'zz', 'zzz', 'zzzz']\n",
      "['x', 'y', 'z', 'xx', 'yy', 'zz', 'xxx', 'yyy', 'zzz']\n",
      "[[2], [3], [4], [3], [4], [5], [4], [5], [6]]\n",
      "[[2, 3, 4, 5], [3, 4, 5, 6], [4, 5, 6, 7], [5, 6, 7, 8]]\n",
      "[(1, 1), (2, 1), (3, 1), (1, 2), (2, 2), (3, 2), (1, 3), (2, 3), (3, 3)]\n"
     ]
    }
   ],
   "source": [
    "#Implement List comprehensions to produce the following lists. \n",
    "#Write List comprehensions to produce the following Lists \n",
    "str=\"ACADGILD\"\n",
    "List1 = [i for i in str]\n",
    "print(List1)\n",
    "str=\"xyz\"\n",
    "List1=[j*i for i in str for j in range(1,5)] \n",
    "print(List1)\n",
    "List1=[j*i for i in range(1,4) for j in str]  \n",
    "print(List1)\n",
    "List1=[[i] for j in range(2,5) for i in range(j,j+3)]\n",
    "print(List1)\n",
    "List1=[[i,i+1,i+2,i+3] for i in range(2,6)]\n",
    "print(List1)\n",
    "List1=[(j,i) for i in range(1,4) for j in range(1,4)] \n",
    "print(List1)"
   ]
  },
  {
   "cell_type": "code",
   "execution_count": 76,
   "metadata": {},
   "outputs": [
    {
     "name": "stdout",
     "output_type": "stream",
     "text": [
      "Enter the Triagle one -Side 11\n",
      "Enter the Triagle one -Side 21\n",
      "Enter the Triagle one -Side 31\n",
      "the Triangle sizes are 1,1,1\n"
     ]
    },
    {
     "data": {
      "text/plain": [
       "0.4330127018922193"
      ]
     },
     "execution_count": 76,
     "metadata": {},
     "output_type": "execute_result"
    }
   ],
   "source": [
    "#Write a Python Program(with class concepts) to find the area of the triangle using the below formula. \n",
    "#area = (s*(s-a)*(s-b)*(s-c)) ** 0.5 \n",
    "class Tri:\n",
    "    a=0\n",
    "    b=0\n",
    "    d=0\n",
    "    def print_info(self):\n",
    "        print(\"the Triangle sizes are {},{},{}\".format(self.a,self.b,self.d))\n",
    "\n",
    "class Tri1(Tri):\n",
    "    def Area(self):\n",
    "        return((self.s*(self.s-self.a)*(self.s-self.b)*(self.s-self.d))**0.5)\n",
    "           \n",
    "T=Tri1()\n",
    "T.a=int(input(\"Enter the Triagle one -Side 1\"))\n",
    "T.b=int(input(\"Enter the Triagle one -Side 2\"))\n",
    "T.d=int(input(\"Enter the Triagle one -Side 3\"))\n",
    "T.s=(T.a+T.b+T.d)/2\n",
    "T.print_info()\n",
    "T.Area()"
   ]
  },
  {
   "cell_type": "code",
   "execution_count": 96,
   "metadata": {},
   "outputs": [
    {
     "name": "stdout",
     "output_type": "stream",
     "text": [
      "['aaa', 'bbbbb', 'ccccc', 'eeeeeee']\n"
     ]
    }
   ],
   "source": [
    "#Write a function filter_long_words() that takes a list of words and an integer n and \n",
    "#returns the list of words that are longer than n. \n",
    "def filter_long_words(s,n):\n",
    "  #  [i if len(i) > n else None for i in s]\n",
    "    s1=[]\n",
    "    for i in s:\n",
    "         if len(i) > n :\n",
    "                s1.append(i)\n",
    "    return s1\n",
    "print(filter_long_words([\"aaa\",\"bbbbb\",\"ccccc\",\"d\",\"eeeeeee\"],2))"
   ]
  },
  {
   "cell_type": "code",
   "execution_count": 98,
   "metadata": {},
   "outputs": [
    {
     "name": "stdout",
     "output_type": "stream",
     "text": [
      "[3, 5, 5, 1, 7]\n"
     ]
    }
   ],
   "source": [
    "#Write a Python program using function concept that maps  list of words into a list of integers representing the lengths of the corresponding words​. \n",
    "# Hint: If a list [ ab,cde,erty] is passed on to the python function output should come as [2,3,4] \n",
    "def Ret_LenList(s):\n",
    "    return [len(i) for i in s]\n",
    "print(Ret_LenList([\"aaa\",\"bbbbb\",\"ccccc\",\"d\",\"eeeeeee\"]))"
   ]
  },
  {
   "cell_type": "code",
   "execution_count": 101,
   "metadata": {},
   "outputs": [],
   "source": [
    "#Write a Python function which takes a character (i.e. a string of length 1) and \n",
    "#returns True if it is a vowel, False otherwise. \n",
    "def isvowel(a):\n",
    "    if a in ('a','e','i','o','u'):\n",
    "        return True\n",
    "    else:\n",
    "        return False\n",
    "if isvowel('b'):\n",
    "    print(\"vowel\")\n",
    "else:\n",
    "    print(\"Not vowel\")\n"
   ]
  }
 ],
 "metadata": {
  "kernelspec": {
   "display_name": "Python 3",
   "language": "python",
   "name": "python3"
  },
  "language_info": {
   "codemirror_mode": {
    "name": "ipython",
    "version": 3
   },
   "file_extension": ".py",
   "mimetype": "text/x-python",
   "name": "python",
   "nbconvert_exporter": "python",
   "pygments_lexer": "ipython3",
   "version": "3.7.6"
  }
 },
 "nbformat": 4,
 "nbformat_minor": 4
}
